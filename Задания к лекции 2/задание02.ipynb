{
 "cells": [
  {
   "cell_type": "code",
   "execution_count": 1,
   "id": "7b0307e0-4f38-4808-b8e4-e90ec67f2138",
   "metadata": {},
   "outputs": [
    {
     "name": "stdin",
     "output_type": "stream",
     "text": [
      "Сколько чисел фибоначи вывести:  10\n"
     ]
    },
    {
     "name": "stdout",
     "output_type": "stream",
     "text": [
      "0\n",
      "1\n",
      "1\n",
      "2\n",
      "3\n",
      "5\n",
      "8\n",
      "13\n",
      "21\n",
      "34\n"
     ]
    }
   ],
   "source": [
    "numberf=int(input(\"Сколько чисел фибоначи вывести: \"))\n",
    "a=0\n",
    "b=1\n",
    "for i in range(numberf):\n",
    "    print(a)\n",
    "    ab=a+b\n",
    "    a=b\n",
    "    b=ab"
   ]
  },
  {
   "cell_type": "code",
   "execution_count": null,
   "id": "65e4a572-5cbf-43af-bafe-b56c1571ca95",
   "metadata": {},
   "outputs": [],
   "source": []
  }
 ],
 "metadata": {
  "kernelspec": {
   "display_name": "Python 3 (ipykernel)",
   "language": "python",
   "name": "python3"
  },
  "language_info": {
   "codemirror_mode": {
    "name": "ipython",
    "version": 3
   },
   "file_extension": ".py",
   "mimetype": "text/x-python",
   "name": "python",
   "nbconvert_exporter": "python",
   "pygments_lexer": "ipython3",
   "version": "3.12.4"
  }
 },
 "nbformat": 4,
 "nbformat_minor": 5
}
