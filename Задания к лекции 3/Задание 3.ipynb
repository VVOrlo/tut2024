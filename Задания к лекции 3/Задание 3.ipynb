{
 "cells": [
  {
   "cell_type": "code",
   "execution_count": 6,
   "id": "dfb8068f-fdc7-41ff-aa98-535b5d2f990d",
   "metadata": {},
   "outputs": [
    {
     "name": "stdout",
     "output_type": "stream",
     "text": [
      "Сумма чисел: 32\n",
      "Произведение чисел 40000\n",
      "Среднее арифметическое 4.571428571428571\n"
     ]
    }
   ],
   "source": [
    "def proc_num(num_list):\n",
    "    sum_num=sum(num_list)\n",
    "    aver_num=sum_num/len(num_list)\n",
    "    prod_num = 1\n",
    "    for num in numbers:\n",
    "        prod_num = prod_num * num\n",
    "       \n",
    "    return sum_num,aver_sum,prod_num\n",
    "\n",
    "numbers=[5,5,5,4,4,4,5]\n",
    "sum_num,aver_num,prod_num=proc_num(numbers)\n",
    "print(\"Сумма чисел:\",sum_num)\n",
    "print(\"Произведение чисел\",prod_num)\n",
    "print(\"Среднее арифметическое\",aver_sum)\n"
   ]
  },
  {
   "cell_type": "code",
   "execution_count": null,
   "id": "be8f3a52-4ed9-4bb7-b25f-1aa5d3900723",
   "metadata": {},
   "outputs": [],
   "source": []
  },
  {
   "cell_type": "code",
   "execution_count": null,
   "id": "662f5496-32d3-4927-a94a-2c998b3ff285",
   "metadata": {},
   "outputs": [],
   "source": []
  }
 ],
 "metadata": {
  "kernelspec": {
   "display_name": "Python 3 (ipykernel)",
   "language": "python",
   "name": "python3"
  },
  "language_info": {
   "codemirror_mode": {
    "name": "ipython",
    "version": 3
   },
   "file_extension": ".py",
   "mimetype": "text/x-python",
   "name": "python",
   "nbconvert_exporter": "python",
   "pygments_lexer": "ipython3",
   "version": "3.12.4"
  }
 },
 "nbformat": 4,
 "nbformat_minor": 5
}
