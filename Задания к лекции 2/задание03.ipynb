{
 "cells": [
  {
   "cell_type": "code",
   "execution_count": null,
   "id": "7b0307e0-4f38-4808-b8e4-e90ec67f2138",
   "metadata": {},
   "outputs": [
    {
     "name": "stdout",
     "output_type": "stream",
     "text": [
      "\n",
      "Введите 'Q' для выхода или любой другой символ для продолжения.\n"
     ]
    },
    {
     "name": "stdin",
     "output_type": "stream",
     "text": [
      "Ваш выбор:  \n",
      "Введите первое число:  4\n",
      "Введите второе число:  7\n",
      "Введите символ операции (+ - / *):  *\n"
     ]
    },
    {
     "name": "stdout",
     "output_type": "stream",
     "text": [
      "Результат умножения чисел 4.0 и 7.0 равен 28.0\n",
      "\n",
      "Введите 'Q' для выхода или любой другой символ для продолжения.\n"
     ]
    },
    {
     "name": "stdin",
     "output_type": "stream",
     "text": [
      "Ваш выбор:  \n",
      "Введите первое число:  kl;\n"
     ]
    },
    {
     "name": "stdout",
     "output_type": "stream",
     "text": [
      "Ошибка: введите корректные числа\n",
      "\n",
      "Введите 'Q' для выхода или любой другой символ для продолжения.\n"
     ]
    },
    {
     "name": "stdin",
     "output_type": "stream",
     "text": [
      "Ваш выбор:  \n"
     ]
    }
   ],
   "source": [
    "while True:\n",
    "    print(\"\\nВведите 'Q' для выхода или любой другой символ для продолжения.\")\n",
    "    choice = input(\"Ваш выбор: \")\n",
    "    \n",
    "    if choice.upper() == 'Q':\n",
    "        print(\"Выход из программы.\")\n",
    "        break\n",
    "        \n",
    "    try:\n",
    "        \n",
    "        number1 = float(input(\"Введите первое число: \"))\n",
    "        number2 = float(input(\"Введите второе число: \"))\n",
    "        oper = input(\"Введите символ операции (+ - / *): \")\n",
    "        \n",
    "        if oper == '+':\n",
    "            result = number1 + number2\n",
    "            print(\"Сумма чисел\", number1, \"и\", number2, \"равна\", result)\n",
    "        \n",
    "        elif oper == '-':\n",
    "            result = number1 - number2\n",
    "            print(\"Разность чисел\", number1, \"и\", number2, \"равна\", result)\n",
    "        \n",
    "        elif oper == '/':\n",
    "            if number2 != 0:\n",
    "                result = number1 / number2\n",
    "                print(\"Результат деления числа\", number1, \"на число\", number2, \"равен\", result)\n",
    "            else:\n",
    "                print(\"Ошибка: деление на ноль\")\n",
    "        \n",
    "        elif oper == '*':\n",
    "            result = number1 * number2\n",
    "            print(\"Результат умножения чисел\", number1, \"и\", number2, \"равен\", result)\n",
    "        \n",
    "        else:\n",
    "            print(\"Неверная операция\")\n",
    "                  \n",
    "    except ValueError:\n",
    "        print(\"Ошибка: введите корректные числа\")\n",
    "    \n",
    "    "
   ]
  },
  {
   "cell_type": "code",
   "execution_count": null,
   "id": "32fdb4db-880f-4af5-95c0-5a60bd722f27",
   "metadata": {},
   "outputs": [],
   "source": []
  }
 ],
 "metadata": {
  "kernelspec": {
   "display_name": "Python 3 (ipykernel)",
   "language": "python",
   "name": "python3"
  },
  "language_info": {
   "codemirror_mode": {
    "name": "ipython",
    "version": 3
   },
   "file_extension": ".py",
   "mimetype": "text/x-python",
   "name": "python",
   "nbconvert_exporter": "python",
   "pygments_lexer": "ipython3",
   "version": "3.12.4"
  }
 },
 "nbformat": 4,
 "nbformat_minor": 5
}
