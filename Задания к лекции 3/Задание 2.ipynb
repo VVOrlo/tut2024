{
 "cells": [
  {
   "cell_type": "code",
   "execution_count": 1,
   "id": "dfb8068f-fdc7-41ff-aa98-535b5d2f990d",
   "metadata": {},
   "outputs": [
    {
     "name": "stdin",
     "output_type": "stream",
     "text": [
      "Строку:  Коо оок\n"
     ]
    },
    {
     "name": "stdout",
     "output_type": "stream",
     "text": [
      "Длина строки: 6\n",
      "Строка является палиндромом\n"
     ]
    }
   ],
   "source": [
    "text1 = str(input(\"Строку: \"))\n",
    "text1 = text1.lower().replace(\" \", \"\")\n",
    "text_len=len(text1)\n",
    "print('Длина строки:',text_len)\n",
    "for i in range(text_len):\n",
    "   if text1[i]!=text1[text_len-1-i]:\n",
    "       print(\"Строка не является палиндромом\")\n",
    "       break\n",
    "else:\n",
    "    print(\"Строка является палиндромом\")"
   ]
  },
  {
   "cell_type": "code",
   "execution_count": null,
   "id": "be8f3a52-4ed9-4bb7-b25f-1aa5d3900723",
   "metadata": {},
   "outputs": [],
   "source": []
  }
 ],
 "metadata": {
  "kernelspec": {
   "display_name": "Python 3 (ipykernel)",
   "language": "python",
   "name": "python3"
  },
  "language_info": {
   "codemirror_mode": {
    "name": "ipython",
    "version": 3
   },
   "file_extension": ".py",
   "mimetype": "text/x-python",
   "name": "python",
   "nbconvert_exporter": "python",
   "pygments_lexer": "ipython3",
   "version": "3.12.4"
  }
 },
 "nbformat": 4,
 "nbformat_minor": 5
}
