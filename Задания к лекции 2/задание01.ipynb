{
 "cells": [
  {
   "cell_type": "code",
   "execution_count": 7,
   "id": "6c4ea20f-5132-4526-94fc-f3db21fc2cf8",
   "metadata": {},
   "outputs": [
    {
     "name": "stdin",
     "output_type": "stream",
     "text": [
      "Введите ваше имя:  Владимир\n",
      "Введите ваш возраст:  45\n",
      "Введите ваш любимый цвет:  красный\n"
     ]
    },
    {
     "name": "stdout",
     "output_type": "stream",
     "text": [
      "Ваше имя Владимир\n",
      "Ваш возраст 45\n",
      "Ваш любимый цвет красный\n"
     ]
    }
   ],
   "source": [
    "name=input(\"Введите ваше имя: \")\n",
    "age=int(input(\"Введите ваш возраст: \"))\n",
    "color=input(\"Введите ваш любимый цвет: \")\n",
    "print(f\"Ваше имя {name}\\nВаш возраст {age}\\nВаш любимый цвет {color.lower()}\")"
   ]
  },
  {
   "cell_type": "code",
   "execution_count": null,
   "id": "330b2782-357f-458b-9c5a-8173abbebb16",
   "metadata": {},
   "outputs": [],
   "source": []
  }
 ],
 "metadata": {
  "kernelspec": {
   "display_name": "Python 3 (ipykernel)",
   "language": "python",
   "name": "python3"
  },
  "language_info": {
   "codemirror_mode": {
    "name": "ipython",
    "version": 3
   },
   "file_extension": ".py",
   "mimetype": "text/x-python",
   "name": "python",
   "nbconvert_exporter": "python",
   "pygments_lexer": "ipython3",
   "version": "3.12.4"
  }
 },
 "nbformat": 4,
 "nbformat_minor": 5
}
