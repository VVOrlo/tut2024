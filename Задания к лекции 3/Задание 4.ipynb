{
 "cells": [
  {
   "cell_type": "code",
   "execution_count": 7,
   "id": "9d9bf74e-faa7-46fa-83fd-a5ef64593b29",
   "metadata": {},
   "outputs": [
    {
     "name": "stdin",
     "output_type": "stream",
     "text": [
      "Введите первое число: 888\n",
      "Введите второе число: 333\n"
     ]
    },
    {
     "name": "stdout",
     "output_type": "stream",
     "text": [
      "Наибольший общий делитель 111\n"
     ]
    }
   ],
   "source": [
    "def evcl(a,b):\n",
    "    while a!=0 and b!=0:\n",
    "        if a>b:\n",
    "            a=a%b\n",
    "        else:\n",
    "            b=b%a\n",
    "    return max(a,b)\n",
    "\n",
    "num1=int(input(\"Введите первое число:\"))\n",
    "num2=int(input(\"Введите второе число:\"))\n",
    "nod=evcl(num1,num2)\n",
    "print(\"Наибольший общий делитель\", nod)\n"
   ]
  },
  {
   "cell_type": "code",
   "execution_count": null,
   "id": "5127ecd6-119e-4020-aea7-e8547fa204f5",
   "metadata": {},
   "outputs": [],
   "source": []
  }
 ],
 "metadata": {
  "kernelspec": {
   "display_name": "Python 3 (ipykernel)",
   "language": "python",
   "name": "python3"
  },
  "language_info": {
   "codemirror_mode": {
    "name": "ipython",
    "version": 3
   },
   "file_extension": ".py",
   "mimetype": "text/x-python",
   "name": "python",
   "nbconvert_exporter": "python",
   "pygments_lexer": "ipython3",
   "version": "3.12.4"
  }
 },
 "nbformat": 4,
 "nbformat_minor": 5
}
