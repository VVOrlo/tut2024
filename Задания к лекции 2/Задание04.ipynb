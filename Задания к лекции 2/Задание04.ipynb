{
 "cells": [
  {
   "cell_type": "code",
   "execution_count": 1,
   "id": "e72996d6-38ec-4fd7-8698-2544e43d477c",
   "metadata": {},
   "outputs": [
    {
     "name": "stdin",
     "output_type": "stream",
     "text": [
      "\n",
      "Выберите преобразование (1 - C в F, 2 - F в C, 0 - выход):  1\n",
      "\n",
      "Введите температуру в градусах Цельсия:  36,6\n"
     ]
    },
    {
     "name": "stdout",
     "output_type": "stream",
     "text": [
      "\n",
      "Температура в градусах Цельсия: 36.6 \n",
      "Температура в градусах Фаренгейта: 97.88000000000001\n"
     ]
    },
    {
     "name": "stdin",
     "output_type": "stream",
     "text": [
      "\n",
      "Выберите преобразование (1 - C в F, 2 - F в C, 0 - выход):  2\n",
      "\n",
      "Введите температуру в градусах Фаренгейта:  97,88\n"
     ]
    },
    {
     "name": "stdout",
     "output_type": "stream",
     "text": [
      "\n",
      "Температура в градусах Фаренгейта: 97.88 \n",
      "Температура в градусах Цельсия: 36.6\n"
     ]
    },
    {
     "name": "stdin",
     "output_type": "stream",
     "text": [
      "\n",
      "Выберите преобразование (1 - C в F, 2 - F в C, 0 - выход):  0\n"
     ]
    },
    {
     "name": "stdout",
     "output_type": "stream",
     "text": [
      "\n",
      "Программа завершена.\n"
     ]
    }
   ],
   "source": [
    "while True:\n",
    "    choice = input(\"\\nВыберите преобразование (1 - C в F, 2 - F в C, 0 - выход): \")\n",
    "    if choice=='0':\n",
    "        print(\"\\nПрограмма завершена.\")\n",
    "        break\n",
    "    \n",
    "    elif choice=='1':\n",
    "        tempC = float(input(\"\\nВведите температуру в градусах Цельсия: \").replace(',', '.'))\n",
    "        tempF=tempC*(9/5)+32\n",
    "        print(\"\\nТемпература в градусах Цельсия:\", tempC,\"\\nТемпература в градусах Фаренгейта:\", tempF)\n",
    "    \n",
    "    elif choice=='2':\n",
    "        tempF = float(input(\"\\nВведите температуру в градусах Фаренгейта: \").replace(',', '.'))\n",
    "        tempC=(tempF-32)*(5/9)\n",
    "        print(\"\\nТемпература в градусах Фаренгейта:\", tempF,\"\\nТемпература в градусах Цельсия:\", tempC,)\n",
    "    \n",
    "    else:\n",
    "        print(\"Неверный выбор. Пожалуйста, выберите 1, 2 или 0.\")\n",
    "        "
   ]
  },
  {
   "cell_type": "markdown",
   "id": "0b990d87-bee2-4f4f-9f7a-afe6197da7e7",
   "metadata": {},
   "source": [
    "## "
   ]
  },
  {
   "cell_type": "code",
   "execution_count": null,
   "id": "298d27e8-3006-4dbe-a15d-4b2a1ffa9bc3",
   "metadata": {},
   "outputs": [],
   "source": []
  }
 ],
 "metadata": {
  "kernelspec": {
   "display_name": "Python 3 (ipykernel)",
   "language": "python",
   "name": "python3"
  },
  "language_info": {
   "codemirror_mode": {
    "name": "ipython",
    "version": 3
   },
   "file_extension": ".py",
   "mimetype": "text/x-python",
   "name": "python",
   "nbconvert_exporter": "python",
   "pygments_lexer": "ipython3",
   "version": "3.12.4"
  }
 },
 "nbformat": 4,
 "nbformat_minor": 5
}
